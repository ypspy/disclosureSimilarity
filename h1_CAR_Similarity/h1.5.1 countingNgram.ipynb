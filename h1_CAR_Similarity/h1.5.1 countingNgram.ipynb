{
 "cells": [
  {
   "cell_type": "code",
   "execution_count": 1,
   "id": "d801fa8c",
   "metadata": {},
   "outputs": [],
   "source": [
    "import os\n",
    "import pandas as pd"
   ]
  },
  {
   "cell_type": "code",
   "execution_count": 19,
   "id": "c4e192b6",
   "metadata": {},
   "outputs": [],
   "source": [
    "df = pd.read_csv(r\"C:\\data\\h1.trigram_list.csv\", header=None, encoding='cp949')"
   ]
  },
  {
   "cell_type": "code",
   "execution_count": 20,
   "id": "88710f7e",
   "metadata": {},
   "outputs": [],
   "source": [
    "df_transposed = df.T"
   ]
  },
  {
   "cell_type": "code",
   "execution_count": 52,
   "id": "b46685ef",
   "metadata": {},
   "outputs": [],
   "source": [
    "df_transposed[\"count\"] = [x.count(\"/\") for x in df_transposed[0]]\n",
    "df_transposed[\"occurence\"] = [int(x) for x in df_transposed[1]]"
   ]
  },
  {
   "cell_type": "code",
   "execution_count": 53,
   "id": "acf2abfc",
   "metadata": {},
   "outputs": [
    {
     "data": {
      "text/plain": [
       "3    157800\n",
       "2     88338\n",
       "1      8038\n",
       "Name: count, dtype: int64"
      ]
     },
     "execution_count": 53,
     "metadata": {},
     "output_type": "execute_result"
    }
   ],
   "source": [
    "df_transposed[\"count\"].value_counts()"
   ]
  },
  {
   "cell_type": "code",
   "execution_count": 56,
   "id": "bfb5f9cc",
   "metadata": {},
   "outputs": [],
   "source": [
    "df = df_transposed.sort_values(by=[\"occurence\"], ascending=False)"
   ]
  },
  {
   "cell_type": "code",
   "execution_count": 58,
   "id": "58e07da7",
   "metadata": {},
   "outputs": [
    {
     "data": {
      "text/html": [
       "<div>\n",
       "<style scoped>\n",
       "    .dataframe tbody tr th:only-of-type {\n",
       "        vertical-align: middle;\n",
       "    }\n",
       "\n",
       "    .dataframe tbody tr th {\n",
       "        vertical-align: top;\n",
       "    }\n",
       "\n",
       "    .dataframe thead th {\n",
       "        text-align: right;\n",
       "    }\n",
       "</style>\n",
       "<table border=\"1\" class=\"dataframe\">\n",
       "  <thead>\n",
       "    <tr style=\"text-align: right;\">\n",
       "      <th></th>\n",
       "      <th>0</th>\n",
       "      <th>1</th>\n",
       "      <th>count</th>\n",
       "      <th>occurence</th>\n",
       "    </tr>\n",
       "  </thead>\n",
       "  <tbody>\n",
       "    <tr>\n",
       "      <th>128</th>\n",
       "      <td>('자산/Noun',)</td>\n",
       "      <td>5308397</td>\n",
       "      <td>1</td>\n",
       "      <td>5308397</td>\n",
       "    </tr>\n",
       "    <tr>\n",
       "      <th>25</th>\n",
       "      <td>('및/Noun',)</td>\n",
       "      <td>2996947</td>\n",
       "      <td>1</td>\n",
       "      <td>2996947</td>\n",
       "    </tr>\n",
       "    <tr>\n",
       "      <th>2904</th>\n",
       "      <td>('금융/Noun',)</td>\n",
       "      <td>2899592</td>\n",
       "      <td>1</td>\n",
       "      <td>2899592</td>\n",
       "    </tr>\n",
       "    <tr>\n",
       "      <th>2237</th>\n",
       "      <td>('인식/Noun',)</td>\n",
       "      <td>2740972</td>\n",
       "      <td>1</td>\n",
       "      <td>2740972</td>\n",
       "    </tr>\n",
       "    <tr>\n",
       "      <th>8</th>\n",
       "      <td>('다음/Noun',)</td>\n",
       "      <td>2291697</td>\n",
       "      <td>1</td>\n",
       "      <td>2291697</td>\n",
       "    </tr>\n",
       "    <tr>\n",
       "      <th>174</th>\n",
       "      <td>('부채/Noun',)</td>\n",
       "      <td>2174385</td>\n",
       "      <td>1</td>\n",
       "      <td>2174385</td>\n",
       "    </tr>\n",
       "    <tr>\n",
       "      <th>115</th>\n",
       "      <td>('당사/Noun',)</td>\n",
       "      <td>1951005</td>\n",
       "      <td>1</td>\n",
       "      <td>1951005</td>\n",
       "    </tr>\n",
       "    <tr>\n",
       "      <th>186</th>\n",
       "      <td>('손익/Noun',)</td>\n",
       "      <td>1847678</td>\n",
       "      <td>1</td>\n",
       "      <td>1847678</td>\n",
       "    </tr>\n",
       "    <tr>\n",
       "      <th>188</th>\n",
       "      <td>('금액/Noun',)</td>\n",
       "      <td>1829754</td>\n",
       "      <td>1</td>\n",
       "      <td>1829754</td>\n",
       "    </tr>\n",
       "    <tr>\n",
       "      <th>108</th>\n",
       "      <td>('현재/Noun',)</td>\n",
       "      <td>1826358</td>\n",
       "      <td>1</td>\n",
       "      <td>1826358</td>\n",
       "    </tr>\n",
       "  </tbody>\n",
       "</table>\n",
       "</div>"
      ],
      "text/plain": [
       "                 0        1  count  occurence\n",
       "128   ('자산/Noun',)  5308397      1    5308397\n",
       "25     ('및/Noun',)  2996947      1    2996947\n",
       "2904  ('금융/Noun',)  2899592      1    2899592\n",
       "2237  ('인식/Noun',)  2740972      1    2740972\n",
       "8     ('다음/Noun',)  2291697      1    2291697\n",
       "174   ('부채/Noun',)  2174385      1    2174385\n",
       "115   ('당사/Noun',)  1951005      1    1951005\n",
       "186   ('손익/Noun',)  1847678      1    1847678\n",
       "188   ('금액/Noun',)  1829754      1    1829754\n",
       "108   ('현재/Noun',)  1826358      1    1826358"
      ]
     },
     "execution_count": 58,
     "metadata": {},
     "output_type": "execute_result"
    }
   ],
   "source": [
    "df[df[\"count\"] == 1].head(10)"
   ]
  },
  {
   "cell_type": "code",
   "execution_count": 59,
   "id": "c3c0f48f",
   "metadata": {},
   "outputs": [
    {
     "data": {
      "text/html": [
       "<div>\n",
       "<style scoped>\n",
       "    .dataframe tbody tr th:only-of-type {\n",
       "        vertical-align: middle;\n",
       "    }\n",
       "\n",
       "    .dataframe tbody tr th {\n",
       "        vertical-align: top;\n",
       "    }\n",
       "\n",
       "    .dataframe thead th {\n",
       "        text-align: right;\n",
       "    }\n",
       "</style>\n",
       "<table border=\"1\" class=\"dataframe\">\n",
       "  <thead>\n",
       "    <tr style=\"text-align: right;\">\n",
       "      <th></th>\n",
       "      <th>0</th>\n",
       "      <th>1</th>\n",
       "      <th>count</th>\n",
       "      <th>occurence</th>\n",
       "    </tr>\n",
       "  </thead>\n",
       "  <tbody>\n",
       "    <tr>\n",
       "      <th>15409</th>\n",
       "      <td>('금융/Noun', '자산/Noun')</td>\n",
       "      <td>1523085</td>\n",
       "      <td>2</td>\n",
       "      <td>1523085</td>\n",
       "    </tr>\n",
       "    <tr>\n",
       "      <th>7178</th>\n",
       "      <td>('공정/Noun', '가치/Noun')</td>\n",
       "      <td>1332666</td>\n",
       "      <td>2</td>\n",
       "      <td>1332666</td>\n",
       "    </tr>\n",
       "    <tr>\n",
       "      <th>3215</th>\n",
       "      <td>('단위/Noun', '천원/Noun')</td>\n",
       "      <td>1147278</td>\n",
       "      <td>2</td>\n",
       "      <td>1147278</td>\n",
       "    </tr>\n",
       "    <tr>\n",
       "      <th>587</th>\n",
       "      <td>('다음/Noun', '단위/Noun')</td>\n",
       "      <td>1073868</td>\n",
       "      <td>2</td>\n",
       "      <td>1073868</td>\n",
       "    </tr>\n",
       "    <tr>\n",
       "      <th>769</th>\n",
       "      <td>('역/Noun', '다음/Noun')</td>\n",
       "      <td>1038100</td>\n",
       "      <td>2</td>\n",
       "      <td>1038100</td>\n",
       "    </tr>\n",
       "    <tr>\n",
       "      <th>3605</th>\n",
       "      <td>('손익/Noun', '인식/Noun')</td>\n",
       "      <td>755344</td>\n",
       "      <td>2</td>\n",
       "      <td>755344</td>\n",
       "    </tr>\n",
       "    <tr>\n",
       "      <th>342</th>\n",
       "      <td>('년/Noun', '월/Noun')</td>\n",
       "      <td>747090</td>\n",
       "      <td>2</td>\n",
       "      <td>747090</td>\n",
       "    </tr>\n",
       "    <tr>\n",
       "      <th>12834</th>\n",
       "      <td>('보고/Noun', '기간/Noun')</td>\n",
       "      <td>734515</td>\n",
       "      <td>2</td>\n",
       "      <td>734515</td>\n",
       "    </tr>\n",
       "    <tr>\n",
       "      <th>740</th>\n",
       "      <td>('이연/Noun', '법인세/Noun')</td>\n",
       "      <td>649575</td>\n",
       "      <td>2</td>\n",
       "      <td>649575</td>\n",
       "    </tr>\n",
       "    <tr>\n",
       "      <th>1808</th>\n",
       "      <td>('말/Noun', '현재/Noun')</td>\n",
       "      <td>642321</td>\n",
       "      <td>2</td>\n",
       "      <td>642321</td>\n",
       "    </tr>\n",
       "  </tbody>\n",
       "</table>\n",
       "</div>"
      ],
      "text/plain": [
       "                             0        1  count  occurence\n",
       "15409   ('금융/Noun', '자산/Noun')  1523085      2    1523085\n",
       "7178    ('공정/Noun', '가치/Noun')  1332666      2    1332666\n",
       "3215    ('단위/Noun', '천원/Noun')  1147278      2    1147278\n",
       "587     ('다음/Noun', '단위/Noun')  1073868      2    1073868\n",
       "769      ('역/Noun', '다음/Noun')  1038100      2    1038100\n",
       "3605    ('손익/Noun', '인식/Noun')   755344      2     755344\n",
       "342       ('년/Noun', '월/Noun')   747090      2     747090\n",
       "12834   ('보고/Noun', '기간/Noun')   734515      2     734515\n",
       "740    ('이연/Noun', '법인세/Noun')   649575      2     649575\n",
       "1808     ('말/Noun', '현재/Noun')   642321      2     642321"
      ]
     },
     "execution_count": 59,
     "metadata": {},
     "output_type": "execute_result"
    }
   ],
   "source": [
    "df[df[\"count\"] == 2].head(10)"
   ]
  },
  {
   "cell_type": "code",
   "execution_count": 60,
   "id": "5e9a7acd",
   "metadata": {},
   "outputs": [
    {
     "data": {
      "text/html": [
       "<div>\n",
       "<style scoped>\n",
       "    .dataframe tbody tr th:only-of-type {\n",
       "        vertical-align: middle;\n",
       "    }\n",
       "\n",
       "    .dataframe tbody tr th {\n",
       "        vertical-align: top;\n",
       "    }\n",
       "\n",
       "    .dataframe thead th {\n",
       "        text-align: right;\n",
       "    }\n",
       "</style>\n",
       "<table border=\"1\" class=\"dataframe\">\n",
       "  <thead>\n",
       "    <tr style=\"text-align: right;\">\n",
       "      <th></th>\n",
       "      <th>0</th>\n",
       "      <th>1</th>\n",
       "      <th>count</th>\n",
       "      <th>occurence</th>\n",
       "    </tr>\n",
       "  </thead>\n",
       "  <tbody>\n",
       "    <tr>\n",
       "      <th>4218</th>\n",
       "      <td>('다음/Noun', '단위/Noun', '천원/Noun')</td>\n",
       "      <td>825785</td>\n",
       "      <td>3</td>\n",
       "      <td>825785</td>\n",
       "    </tr>\n",
       "    <tr>\n",
       "      <th>1144</th>\n",
       "      <td>('역/Noun', '다음/Noun', '단위/Noun')</td>\n",
       "      <td>558513</td>\n",
       "      <td>3</td>\n",
       "      <td>558513</td>\n",
       "    </tr>\n",
       "    <tr>\n",
       "      <th>834</th>\n",
       "      <td>('년/Noun', '월/Noun', '일/Noun')</td>\n",
       "      <td>545217</td>\n",
       "      <td>3</td>\n",
       "      <td>545217</td>\n",
       "    </tr>\n",
       "    <tr>\n",
       "      <th>8433</th>\n",
       "      <td>('기업/Noun', '회계기준/Noun', '제/Noun')</td>\n",
       "      <td>539165</td>\n",
       "      <td>3</td>\n",
       "      <td>539165</td>\n",
       "    </tr>\n",
       "    <tr>\n",
       "      <th>1835</th>\n",
       "      <td>('전기/Noun', '말/Noun', '현재/Noun')</td>\n",
       "      <td>450829</td>\n",
       "      <td>3</td>\n",
       "      <td>450829</td>\n",
       "    </tr>\n",
       "    <tr>\n",
       "      <th>12425</th>\n",
       "      <td>('공정/Noun', '가치/Noun', '측정/Noun')</td>\n",
       "      <td>441817</td>\n",
       "      <td>3</td>\n",
       "      <td>441817</td>\n",
       "    </tr>\n",
       "    <tr>\n",
       "      <th>8434</th>\n",
       "      <td>('회계기준/Noun', '제/Noun', '호/Noun')</td>\n",
       "      <td>416939</td>\n",
       "      <td>3</td>\n",
       "      <td>416939</td>\n",
       "    </tr>\n",
       "    <tr>\n",
       "      <th>13470</th>\n",
       "      <td>('보고/Noun', '기간/Noun', '말/Noun')</td>\n",
       "      <td>356241</td>\n",
       "      <td>3</td>\n",
       "      <td>356241</td>\n",
       "    </tr>\n",
       "    <tr>\n",
       "      <th>9766</th>\n",
       "      <td>('이연/Noun', '법인세/Noun', '자산/Noun')</td>\n",
       "      <td>351080</td>\n",
       "      <td>3</td>\n",
       "      <td>351080</td>\n",
       "    </tr>\n",
       "    <tr>\n",
       "      <th>11321</th>\n",
       "      <td>('기타/Noun', '포괄/Noun', '손익/Noun')</td>\n",
       "      <td>347591</td>\n",
       "      <td>3</td>\n",
       "      <td>347591</td>\n",
       "    </tr>\n",
       "  </tbody>\n",
       "</table>\n",
       "</div>"
      ],
      "text/plain": [
       "                                        0       1  count  occurence\n",
       "4218    ('다음/Noun', '단위/Noun', '천원/Noun')  825785      3     825785\n",
       "1144     ('역/Noun', '다음/Noun', '단위/Noun')  558513      3     558513\n",
       "834        ('년/Noun', '월/Noun', '일/Noun')  545217      3     545217\n",
       "8433   ('기업/Noun', '회계기준/Noun', '제/Noun')  539165      3     539165\n",
       "1835     ('전기/Noun', '말/Noun', '현재/Noun')  450829      3     450829\n",
       "12425   ('공정/Noun', '가치/Noun', '측정/Noun')  441817      3     441817\n",
       "8434    ('회계기준/Noun', '제/Noun', '호/Noun')  416939      3     416939\n",
       "13470    ('보고/Noun', '기간/Noun', '말/Noun')  356241      3     356241\n",
       "9766   ('이연/Noun', '법인세/Noun', '자산/Noun')  351080      3     351080\n",
       "11321   ('기타/Noun', '포괄/Noun', '손익/Noun')  347591      3     347591"
      ]
     },
     "execution_count": 60,
     "metadata": {},
     "output_type": "execute_result"
    }
   ],
   "source": [
    "df[df[\"count\"] == 3].head(10)"
   ]
  },
  {
   "cell_type": "code",
   "execution_count": 2,
   "id": "8c3975e1",
   "metadata": {},
   "outputs": [],
   "source": [
    "import matplotlib.pylab as plt\n",
    "import scipy.sparse as sparse\n",
    "import pickle"
   ]
  },
  {
   "cell_type": "code",
   "execution_count": 3,
   "id": "56926d04",
   "metadata": {},
   "outputs": [],
   "source": [
    "with open(\"C:\\data\\h2.tfIdfVec_twitter_noun_trigram.pkl\", 'rb') as inp:\n",
    "    vectors = pickle.load(inp)"
   ]
  },
  {
   "cell_type": "code",
   "execution_count": 4,
   "id": "4d2733c8",
   "metadata": {},
   "outputs": [
    {
     "data": {
      "text/plain": [
       "<matplotlib.lines.Line2D at 0x26340670970>"
      ]
     },
     "execution_count": 4,
     "metadata": {},
     "output_type": "execute_result"
    },
    {
     "data": {
      "image/png": "[encoded data removed]",
      "text/plain": [
       "<Figure size 432x288 with 1 Axes>"
      ]
     },
     "metadata": {
      "needs_background": "light"
     },
     "output_type": "display_data"
    }
   ],
   "source": [
    "plt.spy(vectors, markersize=1)"
   ]
  },
  {
   "cell_type": "code",
   "execution_count": 5,
   "id": "d32aa395",
   "metadata": {},
   "outputs": [
    {
     "data": {
      "text/plain": [
       "<42626x276774 sparse matrix of type '<class 'numpy.float64'>'\n",
       "\twith 315705970 stored elements in Compressed Sparse Row format>"
      ]
     },
     "execution_count": 5,
     "metadata": {},
     "output_type": "execute_result"
    }
   ],
   "source": [
    "vectors"
   ]
  },
  {
   "cell_type": "code",
   "execution_count": 6,
   "id": "f9601e8a",
   "metadata": {},
   "outputs": [
    {
     "data": {
      "text/plain": [
       "<10x276774 sparse matrix of type '<class 'numpy.float64'>'\n",
       "\twith 15029 stored elements in Compressed Sparse Row format>"
      ]
     },
     "execution_count": 6,
     "metadata": {},
     "output_type": "execute_result"
    }
   ],
   "source": [
    "vectors[0:10]"
   ]
  },
  {
   "cell_type": "code",
   "execution_count": null,
   "id": "978a716f",
   "metadata": {},
   "outputs": [],
   "source": []
  }
 ],
 "metadata": {
  "kernelspec": {
   "display_name": "Python 3",
   "language": "python",
   "name": "python3"
  },
  "language_info": {
   "codemirror_mode": {
    "name": "ipython",
    "version": 3
   },
   "file_extension": ".py",
   "mimetype": "text/x-python",
   "name": "python",
   "nbconvert_exporter": "python",
   "pygments_lexer": "ipython3",
   "version": "3.8.10"
  }
 },
 "nbformat": 4,
 "nbformat_minor": 5
}
